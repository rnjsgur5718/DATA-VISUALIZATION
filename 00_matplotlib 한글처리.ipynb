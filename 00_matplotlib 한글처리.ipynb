{
 "cells": [
  {
   "cell_type": "code",
   "execution_count": 1,
   "metadata": {
    "scrolled": true
   },
   "outputs": [
    {
     "name": "stdout",
     "output_type": "stream",
     "text": [
      "Name: matplotlib\n",
      "Version: 3.5.2\n",
      "Summary: Python plotting package\n",
      "Home-page: https://matplotlib.org\n",
      "Author: John D. Hunter, Michael Droettboom\n",
      "Author-email: matplotlib-users@python.org\n",
      "License: PSF\n",
      "Location: c:\\users\\user\\anaconda3\\envs\\ml\\lib\\site-packages\n",
      "Requires: kiwisolver, fonttools, pillow, cycler, pyparsing, numpy, packaging, python-dateutil\n",
      "Required-by: \n"
     ]
    }
   ],
   "source": [
    "! pip show matplotlib"
   ]
  },
  {
   "cell_type": "code",
   "execution_count": 2,
   "metadata": {},
   "outputs": [],
   "source": [
    "import matplotlib"
   ]
  },
  {
   "cell_type": "markdown",
   "metadata": {},
   "source": [
    "# matplotlib 한글처리\n",
    "matplotlib에 설정되있는 폰트가 한글을 지원하지 않기 때문에 그래프의 한글이 깨져서 나온다."
   ]
  },
  {
   "cell_type": "code",
   "execution_count": 9,
   "metadata": {
    "ExecuteTime": {
     "end_time": "2020-08-15T14:11:37.991800Z",
     "start_time": "2020-08-15T14:11:37.828240Z"
    },
    "scrolled": true
   },
   "outputs": [
    {
     "data": {
      "image/png": "[encoded data removed]",
      "text/plain": [
       "<Figure size 432x288 with 1 Axes>"
      ]
     },
     "metadata": {
      "needs_background": "light"
     },
     "output_type": "display_data"
    }
   ],
   "source": [
    "import matplotlib.pyplot as plt\n",
    "plt.plot(range(-10,10))\n",
    "plt.xlabel(\"X값\")\n",
    "plt.ylabel(\"Y값\")\n",
    "plt.title('matplotlib 예제')\n",
    "plt.show()"
   ]
  },
  {
   "cell_type": "markdown",
   "metadata": {},
   "source": [
    "## 설정방법\n",
    "1. 설정파일을 변경한다. \n",
    "    - 한번만 하면 된다.\n",
    "2. 프로그램상에서 변경한다.\n",
    "    - 프로그램이 로딩 될때마다 (노트북 파일이나 파이썬 스크립트 실행시마다) 코드를 실행해야 한다.\n",
    "    - 전체 설정에서 변경하고 싶은 것을 재설정한다."
   ]
  },
  {
   "cell_type": "markdown",
   "metadata": {},
   "source": [
    "## OS에 설치된 폰트명 조회"
   ]
  },
  {
   "cell_type": "code",
   "execution_count": 1,
   "metadata": {
    "ExecuteTime": {
     "end_time": "2022-06-14T01:39:02.301627Z",
     "start_time": "2022-06-14T01:39:01.711133Z"
    }
   },
   "outputs": [],
   "source": [
    "import matplotlib as mpl\n",
    "import matplotlib.font_manager as fm"
   ]
  },
  {
   "cell_type": "markdown",
   "metadata": {},
   "source": [
    "폰트 cache 파일을 삭제 한다."
   ]
  },
  {
   "cell_type": "code",
   "execution_count": 2,
   "metadata": {
    "ExecuteTime": {
     "end_time": "2022-06-14T01:40:24.558645Z",
     "start_time": "2022-06-14T01:40:24.540678Z"
    }
   },
   "outputs": [
    {
     "name": "stdout",
     "output_type": "stream",
     "text": [
      "C:\\Users\\USER\\.matplotlib\n"
     ]
    }
   ],
   "source": [
    "# cache 파일 조회\n",
    "# 다음 실행 결과로 나온 디렉토리 안의 파일을 삭제한다. \n",
    "print(mpl.get_cachedir())"
   ]
  },
  {
   "cell_type": "markdown",
   "metadata": {},
   "source": [
    "전체 폰트 조회"
   ]
  },
  {
   "cell_type": "code",
   "execution_count": 7,
   "metadata": {
    "ExecuteTime": {
     "end_time": "2022-06-14T01:40:28.369194Z",
     "start_time": "2022-06-14T01:40:28.172555Z"
    }
   },
   "outputs": [
    {
     "name": "stdout",
     "output_type": "stream",
     "text": [
      "STIXSizeFourSym:::C:\\Users\\USER\\anaconda3\\envs\\ml\\lib\\site-packages\\matplotlib\\mpl-data\\fonts\\ttf\\STIXSizFourSymBol.ttf\n",
      "cmb10:::C:\\Users\\USER\\anaconda3\\envs\\ml\\lib\\site-packages\\matplotlib\\mpl-data\\fonts\\ttf\\cmb10.ttf\n",
      "cmr10:::C:\\Users\\USER\\anaconda3\\envs\\ml\\lib\\site-packages\\matplotlib\\mpl-data\\fonts\\ttf\\cmr10.ttf\n",
      "DejaVu Sans:::C:\\Users\\USER\\anaconda3\\envs\\ml\\lib\\site-packages\\matplotlib\\mpl-data\\fonts\\ttf\\DejaVuSans.ttf\n",
      "STIXSizeFourSym:::C:\\Users\\USER\\anaconda3\\envs\\ml\\lib\\site-packages\\matplotlib\\mpl-data\\fonts\\ttf\\STIXSizFourSymReg.ttf\n",
      "DejaVu Sans Mono:::C:\\Users\\USER\\anaconda3\\envs\\ml\\lib\\site-packages\\matplotlib\\mpl-data\\fonts\\ttf\\DejaVuSansMono.ttf\n",
      "cmmi10:::C:\\Users\\USER\\anaconda3\\envs\\ml\\lib\\site-packages\\matplotlib\\mpl-data\\fonts\\ttf\\cmmi10.ttf\n",
      "STIXGeneral:::C:\\Users\\USER\\anaconda3\\envs\\ml\\lib\\site-packages\\matplotlib\\mpl-data\\fonts\\ttf\\STIXGeneralItalic.ttf\n",
      "STIXNonUnicode:::C:\\Users\\USER\\anaconda3\\envs\\ml\\lib\\site-packages\\matplotlib\\mpl-data\\fonts\\ttf\\STIXNonUniIta.ttf\n",
      "DejaVu Sans:::C:\\Users\\USER\\anaconda3\\envs\\ml\\lib\\site-packages\\matplotlib\\mpl-data\\fonts\\ttf\\DejaVuSans-Oblique.ttf\n",
      "STIXNonUnicode:::C:\\Users\\USER\\anaconda3\\envs\\ml\\lib\\site-packages\\matplotlib\\mpl-data\\fonts\\ttf\\STIXNonUniBol.ttf\n",
      "STIXGeneral:::C:\\Users\\USER\\anaconda3\\envs\\ml\\lib\\site-packages\\matplotlib\\mpl-data\\fonts\\ttf\\STIXGeneralBolIta.ttf\n",
      "DejaVu Serif:::C:\\Users\\USER\\anaconda3\\envs\\ml\\lib\\site-packages\\matplotlib\\mpl-data\\fonts\\ttf\\DejaVuSerif.ttf\n",
      "cmtt10:::C:\\Users\\USER\\anaconda3\\envs\\ml\\lib\\site-packages\\matplotlib\\mpl-data\\fonts\\ttf\\cmtt10.ttf\n",
      "DejaVu Sans Mono:::C:\\Users\\USER\\anaconda3\\envs\\ml\\lib\\site-packages\\matplotlib\\mpl-data\\fonts\\ttf\\DejaVuSansMono-Oblique.ttf\n",
      "DejaVu Serif Display:::C:\\Users\\USER\\anaconda3\\envs\\ml\\lib\\site-packages\\matplotlib\\mpl-data\\fonts\\ttf\\DejaVuSerifDisplay.ttf\n",
      "STIXSizeFiveSym:::C:\\Users\\USER\\anaconda3\\envs\\ml\\lib\\site-packages\\matplotlib\\mpl-data\\fonts\\ttf\\STIXSizFiveSymReg.ttf\n",
      "STIXSizeThreeSym:::C:\\Users\\USER\\anaconda3\\envs\\ml\\lib\\site-packages\\matplotlib\\mpl-data\\fonts\\ttf\\STIXSizThreeSymBol.ttf\n",
      "STIXNonUnicode:::C:\\Users\\USER\\anaconda3\\envs\\ml\\lib\\site-packages\\matplotlib\\mpl-data\\fonts\\ttf\\STIXNonUni.ttf\n",
      "STIXGeneral:::C:\\Users\\USER\\anaconda3\\envs\\ml\\lib\\site-packages\\matplotlib\\mpl-data\\fonts\\ttf\\STIXGeneralBol.ttf\n",
      "DejaVu Serif:::C:\\Users\\USER\\anaconda3\\envs\\ml\\lib\\site-packages\\matplotlib\\mpl-data\\fonts\\ttf\\DejaVuSerif-BoldItalic.ttf\n",
      "DejaVu Sans Display:::C:\\Users\\USER\\anaconda3\\envs\\ml\\lib\\site-packages\\matplotlib\\mpl-data\\fonts\\ttf\\DejaVuSansDisplay.ttf\n",
      "STIXSizeThreeSym:::C:\\Users\\USER\\anaconda3\\envs\\ml\\lib\\site-packages\\matplotlib\\mpl-data\\fonts\\ttf\\STIXSizThreeSymReg.ttf\n",
      "DejaVu Sans Mono:::C:\\Users\\USER\\anaconda3\\envs\\ml\\lib\\site-packages\\matplotlib\\mpl-data\\fonts\\ttf\\DejaVuSansMono-Bold.ttf\n",
      "cmex10:::C:\\Users\\USER\\anaconda3\\envs\\ml\\lib\\site-packages\\matplotlib\\mpl-data\\fonts\\ttf\\cmex10.ttf\n",
      "STIXSizeOneSym:::C:\\Users\\USER\\anaconda3\\envs\\ml\\lib\\site-packages\\matplotlib\\mpl-data\\fonts\\ttf\\STIXSizOneSymBol.ttf\n",
      "DejaVu Sans:::C:\\Users\\USER\\anaconda3\\envs\\ml\\lib\\site-packages\\matplotlib\\mpl-data\\fonts\\ttf\\DejaVuSans-Bold.ttf\n",
      "DejaVu Sans:::C:\\Users\\USER\\anaconda3\\envs\\ml\\lib\\site-packages\\matplotlib\\mpl-data\\fonts\\ttf\\DejaVuSans-BoldOblique.ttf\n",
      "DejaVu Serif:::C:\\Users\\USER\\anaconda3\\envs\\ml\\lib\\site-packages\\matplotlib\\mpl-data\\fonts\\ttf\\DejaVuSerif-Italic.ttf\n",
      "STIXSizeOneSym:::C:\\Users\\USER\\anaconda3\\envs\\ml\\lib\\site-packages\\matplotlib\\mpl-data\\fonts\\ttf\\STIXSizOneSymReg.ttf\n",
      "STIXSizeTwoSym:::C:\\Users\\USER\\anaconda3\\envs\\ml\\lib\\site-packages\\matplotlib\\mpl-data\\fonts\\ttf\\STIXSizTwoSymBol.ttf\n",
      "STIXNonUnicode:::C:\\Users\\USER\\anaconda3\\envs\\ml\\lib\\site-packages\\matplotlib\\mpl-data\\fonts\\ttf\\STIXNonUniBolIta.ttf\n",
      "STIXSizeTwoSym:::C:\\Users\\USER\\anaconda3\\envs\\ml\\lib\\site-packages\\matplotlib\\mpl-data\\fonts\\ttf\\STIXSizTwoSymReg.ttf\n",
      "cmsy10:::C:\\Users\\USER\\anaconda3\\envs\\ml\\lib\\site-packages\\matplotlib\\mpl-data\\fonts\\ttf\\cmsy10.ttf\n",
      "STIXGeneral:::C:\\Users\\USER\\anaconda3\\envs\\ml\\lib\\site-packages\\matplotlib\\mpl-data\\fonts\\ttf\\STIXGeneral.ttf\n",
      "DejaVu Sans Mono:::C:\\Users\\USER\\anaconda3\\envs\\ml\\lib\\site-packages\\matplotlib\\mpl-data\\fonts\\ttf\\DejaVuSansMono-BoldOblique.ttf\n",
      "cmss10:::C:\\Users\\USER\\anaconda3\\envs\\ml\\lib\\site-packages\\matplotlib\\mpl-data\\fonts\\ttf\\cmss10.ttf\n",
      "DejaVu Serif:::C:\\Users\\USER\\anaconda3\\envs\\ml\\lib\\site-packages\\matplotlib\\mpl-data\\fonts\\ttf\\DejaVuSerif-Bold.ttf\n",
      "Berlin Sans FB:::C:\\Windows\\Fonts\\BRLNSB.TTF\n",
      "Niagara Engraved:::C:\\Windows\\Fonts\\NIAGENG.TTF\n",
      "Nirmala UI:::C:\\Windows\\Fonts\\NirmalaB.ttf\n",
      "Perpetua Titling MT:::C:\\Windows\\Fonts\\PERTILI.TTF\n",
      "Segoe UI:::C:\\Windows\\Fonts\\segoeuil.ttf\n",
      "Arial:::C:\\Windows\\Fonts\\arialbd.ttf\n",
      "Book Antiqua:::C:\\Windows\\Fonts\\BKANT.TTF\n",
      "Book Antiqua:::C:\\Windows\\Fonts\\ANTQUABI.TTF\n",
      "Microsoft Yi Baiti:::C:\\Windows\\Fonts\\msyi.ttf\n",
      "Matura MT Script Capitals:::C:\\Windows\\Fonts\\MATURASC.TTF\n",
      "Bookman Old Style:::C:\\Windows\\Fonts\\BOOKOSB.TTF\n",
      "Franklin Gothic Demi:::C:\\Windows\\Fonts\\FRADM.TTF\n",
      "HCR Batang:::C:\\Windows\\Fonts\\HANBatang.ttf\n",
      "Century Gothic:::C:\\Windows\\Fonts\\GOTHICBI.TTF\n",
      "Segoe UI Symbol:::C:\\Windows\\Fonts\\seguisym.ttf\n",
      "HCR Dotum:::C:\\Windows\\Fonts\\HANDotum.ttf\n",
      "HYHeadLine-Medium:::C:\\Windows\\Fonts\\H2HDRM.TTF\n",
      "Gloucester MT Extra Condensed:::C:\\Windows\\Fonts\\GLECB.TTF\n",
      "Gill Sans MT Condensed:::C:\\Windows\\Fonts\\GILC____.TTF\n",
      "Segoe Print:::C:\\Windows\\Fonts\\segoeprb.ttf\n",
      "Playbill:::C:\\Windows\\Fonts\\PLAYBILL.TTF\n",
      "Calisto MT:::C:\\Windows\\Fonts\\CALISTI.TTF\n",
      "Century Schoolbook:::C:\\Windows\\Fonts\\SCHLBKB.TTF\n",
      "Segoe UI:::C:\\Windows\\Fonts\\segoeui.ttf\n",
      "Magic R:::C:\\Windows\\Fonts\\HMKMMAG.TTF\n",
      "Times New Roman:::C:\\Windows\\Fonts\\timesbi.ttf\n",
      "Bodoni MT:::C:\\Windows\\Fonts\\BOD_CI.TTF\n",
      "Rockwell:::C:\\Windows\\Fonts\\ROCKI.TTF\n",
      "HYSinMyeongJo-Medium:::C:\\Windows\\Fonts\\H2MJSM.TTF\n",
      "Vivaldi:::C:\\Windows\\Fonts\\VIVALDII.TTF\n",
      "HoloLens MDL2 Assets:::C:\\Windows\\Fonts\\holomdl2.ttf\n",
      "Bookman Old Style:::C:\\Windows\\Fonts\\BOOKOSI.TTF\n",
      "Arial:::C:\\Windows\\Fonts\\ARIALNBI.TTF\n",
      "Century Gothic:::C:\\Windows\\Fonts\\GOTHICB.TTF\n",
      "Palatino Linotype:::C:\\Windows\\Fonts\\pala.ttf\n",
      "Bodoni MT:::C:\\Windows\\Fonts\\BOD_CR.TTF\n",
      "Microsoft JhengHei:::C:\\Windows\\Fonts\\msjh.ttc\n",
      "Colonna MT:::C:\\Windows\\Fonts\\COLONNA.TTF\n",
      "Lucida Sans:::C:\\Windows\\Fonts\\LSANSDI.TTF\n",
      "Cooper Black:::C:\\Windows\\Fonts\\COOPBL.TTF\n",
      "Calibri:::C:\\Windows\\Fonts\\calibrili.ttf\n",
      "Britannic Bold:::C:\\Windows\\Fonts\\BRITANIC.TTF\n",
      "Stencil:::C:\\Windows\\Fonts\\STENCIL.TTF\n",
      "Bodoni MT:::C:\\Windows\\Fonts\\BOD_I.TTF\n",
      "Candara:::C:\\Windows\\Fonts\\Candaraz.ttf\n",
      "Californian FB:::C:\\Windows\\Fonts\\CALIFR.TTF\n",
      "Papyrus:::C:\\Windows\\Fonts\\PAPYRUS.TTF\n",
      "Century Gothic:::C:\\Windows\\Fonts\\GOTHIC.TTF\n",
      "Showcard Gothic:::C:\\Windows\\Fonts\\SHOWG.TTF\n",
      "MT Extra:::C:\\Windows\\Fonts\\MTEXTRA.TTF\n",
      "Rockwell:::C:\\Windows\\Fonts\\ROCKB.TTF\n",
      "Goudy Old Style:::C:\\Windows\\Fonts\\GOUDOSI.TTF\n",
      "Haan Wing2:::C:\\Windows\\Fonts\\HANWing2.ttf\n",
      "Elephant:::C:\\Windows\\Fonts\\ELEPHNTI.TTF\n",
      "Rage Italic:::C:\\Windows\\Fonts\\RAGE.TTF\n",
      "Franklin Gothic Medium:::C:\\Windows\\Fonts\\framdit.ttf\n",
      "Bodoni MT:::C:\\Windows\\Fonts\\BOD_B.TTF\n",
      "MS Gothic:::C:\\Windows\\Fonts\\msgothic.ttc\n",
      "Comic Sans MS:::C:\\Windows\\Fonts\\comici.ttf\n",
      "Gill Sans MT:::C:\\Windows\\Fonts\\GILBI___.TTF\n",
      "Perpetua:::C:\\Windows\\Fonts\\PER_____.TTF\n",
      "Felix Titling:::C:\\Windows\\Fonts\\FELIXTI.TTF\n",
      "Candara:::C:\\Windows\\Fonts\\Candaral.ttf\n",
      "HYShortSamul-Medium:::C:\\Windows\\Fonts\\H2SA1M.TTF\n",
      "Garamond:::C:\\Windows\\Fonts\\GARAIT.TTF\n",
      "Sitka:::C:\\Windows\\Fonts\\SitkaVF-Italic.ttf\n",
      "Microsoft YaHei:::C:\\Windows\\Fonts\\msyhl.ttc\n",
      "Cambria:::C:\\Windows\\Fonts\\cambriab.ttf\n",
      "Century Gothic:::C:\\Windows\\Fonts\\GOTHICI.TTF\n",
      "Segoe UI:::C:\\Windows\\Fonts\\seguili.ttf\n",
      "Leelawadee UI:::C:\\Windows\\Fonts\\LeelUIsl.ttf\n",
      "Bauhaus 93:::C:\\Windows\\Fonts\\BAUHS93.TTF\n",
      "Onyx:::C:\\Windows\\Fonts\\ONYX.TTF\n",
      "Chiller:::C:\\Windows\\Fonts\\CHILLER.TTF\n",
      "Calisto MT:::C:\\Windows\\Fonts\\CALIST.TTF\n",
      "Hancom Gothic:::C:\\Windows\\Fonts\\Hancom Gothic Regular.ttf\n",
      "Century Schoolbook:::C:\\Windows\\Fonts\\SCHLBKBI.TTF\n",
      "Gill Sans MT Ext Condensed Bold:::C:\\Windows\\Fonts\\GLSNECB.TTF\n",
      "Yu Gothic:::C:\\Windows\\Fonts\\YuGothL.ttc\n",
      "Corbel:::C:\\Windows\\Fonts\\corbelb.ttf\n",
      "Hancom Hoonminjeongeum_V:::C:\\Windows\\Fonts\\Hancom HMJE_V.ttf\n",
      "Century Schoolbook:::C:\\Windows\\Fonts\\CENSCBK.TTF\n",
      "HCR Batang ExtB:::C:\\Windows\\Fonts\\HANBatangExtBB.ttf\n",
      "Franklin Gothic Medium Cond:::C:\\Windows\\Fonts\\FRAMDCN.TTF\n",
      "Han Santteut Dotum:::C:\\Windows\\Fonts\\HanSantteutDotum-Bold.ttf\n",
      "Constantia:::C:\\Windows\\Fonts\\constani.ttf\n",
      "Gadugi:::C:\\Windows\\Fonts\\gadugib.ttf\n",
      "Ravie:::C:\\Windows\\Fonts\\RAVIE.TTF\n",
      "Segoe UI Variable:::C:\\Windows\\Fonts\\SegUIVar.ttf\n",
      "Georgia:::C:\\Windows\\Fonts\\georgiaz.ttf\n",
      "HCR Batang:::C:\\Windows\\Fonts\\HANBatangB.ttf\n",
      "OCR A Extended:::C:\\Windows\\Fonts\\OCRAEXT.TTF\n",
      "Harlow Solid Italic:::C:\\Windows\\Fonts\\HARLOWSI.TTF\n",
      "Baskerville Old Face:::C:\\Windows\\Fonts\\BASKVILL.TTF\n",
      "Bookman Old Style:::C:\\Windows\\Fonts\\BOOKOS.TTF\n",
      "HCR Batang Ext:::C:\\Windows\\Fonts\\HANBatangExt.ttf\n",
      "Tahoma:::C:\\Windows\\Fonts\\tahomabd.ttf\n",
      "Goudy Old Style:::C:\\Windows\\Fonts\\GOUDOSB.TTF\n",
      "Gabriola:::C:\\Windows\\Fonts\\Gabriola.ttf\n",
      "Haettenschweiler:::C:\\Windows\\Fonts\\HATTEN.TTF\n",
      "Tempus Sans ITC:::C:\\Windows\\Fonts\\TEMPSITC.TTF\n",
      "Yu Gothic:::C:\\Windows\\Fonts\\YuGothB.ttc\n",
      "Lucida Sans Typewriter:::C:\\Windows\\Fonts\\LTYPE.TTF\n",
      "Gulim:::C:\\Windows\\Fonts\\gulim.ttc\n",
      "Lucida Calligraphy:::C:\\Windows\\Fonts\\LCALLIG.TTF\n",
      "Bodoni MT:::C:\\Windows\\Fonts\\BOD_BLAR.TTF\n",
      "Malgun Gothic:::C:\\Windows\\Fonts\\malgunbd.ttf\n",
      "Lucida Bright:::C:\\Windows\\Fonts\\LBRITEI.TTF\n",
      "Lucida Fax:::C:\\Windows\\Fonts\\LFAXI.TTF\n",
      "Marlett:::C:\\Windows\\Fonts\\marlett.ttf\n",
      "Lucida Sans Unicode:::C:\\Windows\\Fonts\\l_10646.ttf\n",
      "Segoe UI Historic:::C:\\Windows\\Fonts\\seguihis.ttf\n",
      "Webdings:::C:\\Windows\\Fonts\\webdings.ttf\n",
      "Eras Medium ITC:::C:\\Windows\\Fonts\\ERASMD.TTF\n",
      "Trebuchet MS:::C:\\Windows\\Fonts\\trebucbd.ttf\n",
      "Yu Gothic:::C:\\Windows\\Fonts\\YuGothM.ttc\n",
      "Bell MT:::C:\\Windows\\Fonts\\BELL.TTF\n",
      "Han Santteut Dotum:::C:\\Windows\\Fonts\\HanSantteutDotum-Regular.ttf\n",
      "Garamond:::C:\\Windows\\Fonts\\GARA.TTF\n",
      "Sitka:::C:\\Windows\\Fonts\\SitkaVF.ttf\n",
      "Arial:::C:\\Windows\\Fonts\\ARIALNI.TTF\n",
      "Segoe Script:::C:\\Windows\\Fonts\\segoesc.ttf\n",
      "Harrington:::C:\\Windows\\Fonts\\HARNGTON.TTF\n",
      "Hancom MalangMalang:::C:\\Windows\\Fonts\\MalangmalangR.ttf\n",
      "Malgun Gothic:::C:\\Windows\\Fonts\\malgun.ttf\n",
      "Poor Richard:::C:\\Windows\\Fonts\\POORICH.TTF\n",
      "Bodoni MT:::C:\\Windows\\Fonts\\BOD_BLAI.TTF\n",
      "Goudy Stout:::C:\\Windows\\Fonts\\GOUDYSTO.TTF\n",
      "Imprint MT Shadow:::C:\\Windows\\Fonts\\IMPRISHA.TTF\n",
      "Tw Cen MT Condensed:::C:\\Windows\\Fonts\\TCCB____.TTF\n",
      "Perpetua Titling MT:::C:\\Windows\\Fonts\\PERTIBD.TTF\n",
      "HYGraphic-Medium:::C:\\Windows\\Fonts\\H2GPRM.TTF\n",
      "Leelawadee UI:::C:\\Windows\\Fonts\\LeelawUI.ttf\n",
      "Copperplate Gothic Light:::C:\\Windows\\Fonts\\COPRGTL.TTF\n",
      "Old English Text MT:::C:\\Windows\\Fonts\\OLDENGL.TTF\n",
      "Eras Bold ITC:::C:\\Windows\\Fonts\\ERASBD.TTF\n",
      "Elephant:::C:\\Windows\\Fonts\\ELEPHNT.TTF\n",
      "Lucida Sans:::C:\\Windows\\Fonts\\LSANSI.TTF\n",
      "Franklin Gothic Demi Cond:::C:\\Windows\\Fonts\\FRADMCN.TTF\n",
      "Segoe UI:::C:\\Windows\\Fonts\\seguibl.ttf\n",
      "Kristen ITC:::C:\\Windows\\Fonts\\ITCKRIST.TTF\n",
      "Hancom Gothic:::C:\\Windows\\Fonts\\Hancom Gothic Bold.ttf\n",
      "Arial Rounded MT Bold:::C:\\Windows\\Fonts\\ARLRDBD.TTF\n",
      "Calibri:::C:\\Windows\\Fonts\\calibrib.ttf\n",
      "Palace Script MT:::C:\\Windows\\Fonts\\PALSCRI.TTF\n",
      "Times New Roman:::C:\\Windows\\Fonts\\timesbd.ttf\n",
      "Franklin Gothic Heavy:::C:\\Windows\\Fonts\\FRAHVIT.TTF\n",
      "Trebuchet MS:::C:\\Windows\\Fonts\\trebucit.ttf\n",
      "Pristina:::C:\\Windows\\Fonts\\PRISTINA.TTF\n",
      "Blackadder ITC:::C:\\Windows\\Fonts\\ITCBLKAD.TTF\n",
      "Consolas:::C:\\Windows\\Fonts\\consolai.ttf\n",
      "Microsoft YaHei:::C:\\Windows\\Fonts\\msyh.ttc\n",
      "Rockwell Condensed:::C:\\Windows\\Fonts\\ROCCB___.TTF\n",
      "Javanese Text:::C:\\Windows\\Fonts\\javatext.ttf\n",
      "Snap ITC:::C:\\Windows\\Fonts\\SNAP____.TTF\n",
      "Corbel:::C:\\Windows\\Fonts\\corbell.ttf\n",
      "Castellar:::C:\\Windows\\Fonts\\CASTELAR.TTF\n",
      "Leelawadee:::C:\\Windows\\Fonts\\LEELAWDB.TTF\n",
      "Rockwell:::C:\\Windows\\Fonts\\ROCKBI.TTF\n",
      "Mongolian Baiti:::C:\\Windows\\Fonts\\monbaiti.ttf\n",
      "Agency FB:::C:\\Windows\\Fonts\\AGENCYB.TTF\n",
      "Segoe UI:::C:\\Windows\\Fonts\\seguisli.ttf\n",
      "Cambria:::C:\\Windows\\Fonts\\cambria.ttc\n",
      "Perpetua:::C:\\Windows\\Fonts\\PERBI___.TTF\n",
      "Bodoni MT:::C:\\Windows\\Fonts\\BOD_CBI.TTF\n",
      "Sylfaen:::C:\\Windows\\Fonts\\sylfaen.ttf\n",
      "Hancom MalangMalang:::C:\\Windows\\Fonts\\MalangmalangB.ttf\n",
      "Myanmar Text:::C:\\Windows\\Fonts\\mmrtextb.ttf\n",
      "Corbel:::C:\\Windows\\Fonts\\corbeli.ttf\n",
      "Copperplate Gothic Bold:::C:\\Windows\\Fonts\\COPRGTB.TTF\n",
      "Cambria:::C:\\Windows\\Fonts\\cambriaz.ttf\n",
      "Lucida Sans Typewriter:::C:\\Windows\\Fonts\\LTYPEBO.TTF\n",
      "Tw Cen MT Condensed:::C:\\Windows\\Fonts\\TCCM____.TTF\n",
      "Perpetua:::C:\\Windows\\Fonts\\PERB____.TTF\n",
      "Arial:::C:\\Windows\\Fonts\\ariblk.ttf\n",
      "Segoe UI:::C:\\Windows\\Fonts\\seguisbi.ttf\n",
      "Yet R:::C:\\Windows\\Fonts\\HMFMOLD.TTF\n",
      "MS Reference Sans Serif:::C:\\Windows\\Fonts\\REFSAN.TTF\n",
      "Book Antiqua:::C:\\Windows\\Fonts\\ANTQUAI.TTF\n",
      "Courier New:::C:\\Windows\\Fonts\\cour.ttf\n",
      "Lucida Console:::C:\\Windows\\Fonts\\lucon.ttf\n",
      "Agency FB:::C:\\Windows\\Fonts\\AGENCYR.TTF\n",
      "Gigi:::C:\\Windows\\Fonts\\GIGI.TTF\n",
      "Bodoni MT:::C:\\Windows\\Fonts\\BOD_R.TTF\n",
      "Ami R:::C:\\Windows\\Fonts\\HMKMAMI.TTF\n",
      "Segoe UI:::C:\\Windows\\Fonts\\segoeuisl.ttf\n",
      "Wingdings 3:::C:\\Windows\\Fonts\\WINGDNG3.TTF\n",
      "Courier New:::C:\\Windows\\Fonts\\couri.ttf\n",
      "Microsoft PhagsPa:::C:\\Windows\\Fonts\\phagspab.ttf\n",
      "Tw Cen MT:::C:\\Windows\\Fonts\\TCM_____.TTF\n",
      "Batang:::C:\\Windows\\Fonts\\batang.ttc\n",
      "Rockwell Condensed:::C:\\Windows\\Fonts\\ROCC____.TTF\n",
      "Footlight MT Light:::C:\\Windows\\Fonts\\FTLTLT.TTF\n",
      "Tw Cen MT:::C:\\Windows\\Fonts\\TCB_____.TTF\n",
      "Calibri:::C:\\Windows\\Fonts\\calibrii.ttf\n",
      "MoeumT R:::C:\\Windows\\Fonts\\HMFMMUEX.TTC\n",
      "Wide Latin:::C:\\Windows\\Fonts\\LATINWD.TTF\n",
      "Garamond:::C:\\Windows\\Fonts\\GARABD.TTF\n",
      "Algerian:::C:\\Windows\\Fonts\\ALGER.TTF\n",
      "Bahnschrift:::C:\\Windows\\Fonts\\bahnschrift.ttf\n",
      "Gill Sans MT:::C:\\Windows\\Fonts\\GIL_____.TTF\n",
      "Eras Light ITC:::C:\\Windows\\Fonts\\ERASLGHT.TTF\n",
      "Gill Sans Ultra Bold Condensed:::C:\\Windows\\Fonts\\GILLUBCD.TTF\n",
      "Trebuchet MS:::C:\\Windows\\Fonts\\trebuc.ttf\n",
      "Georgia:::C:\\Windows\\Fonts\\georgiai.ttf\n",
      "Dubai:::C:\\Windows\\Fonts\\DUBAI-MEDIUM.TTF\n",
      "Dubai:::C:\\Windows\\Fonts\\DUBAI-BOLD.TTF\n",
      "Bodoni MT:::C:\\Windows\\Fonts\\BOD_PSTC.TTF\n",
      "Arial:::C:\\Windows\\Fonts\\arial.ttf\n",
      "Segoe MDL2 Assets:::C:\\Windows\\Fonts\\segmdl2.ttf\n",
      "HYPMokGak-Bold:::C:\\Windows\\Fonts\\H2MKPB.TTF\n",
      "Centaur:::C:\\Windows\\Fonts\\CENTAUR.TTF\n",
      "Lucida Sans Typewriter:::C:\\Windows\\Fonts\\LTYPEO.TTF\n",
      "Malgun Gothic:::C:\\Windows\\Fonts\\malgunsl.ttf\n",
      "Microsoft New Tai Lue:::C:\\Windows\\Fonts\\ntailu.ttf\n",
      "Engravers MT:::C:\\Windows\\Fonts\\ENGR.TTF\n",
      "Georgia:::C:\\Windows\\Fonts\\georgia.ttf\n",
      "Gill Sans Ultra Bold:::C:\\Windows\\Fonts\\GILSANUB.TTF\n",
      "Ebrima:::C:\\Windows\\Fonts\\ebrimabd.ttf\n",
      "Parchment:::C:\\Windows\\Fonts\\PARCHM.TTF\n",
      "HYGungSo-Bold:::C:\\Windows\\Fonts\\H2GSRB.TTF\n",
      "Candara:::C:\\Windows\\Fonts\\Candarali.ttf\n",
      "Candara:::C:\\Windows\\Fonts\\Candarab.ttf\n",
      "Segoe Print:::C:\\Windows\\Fonts\\segoepr.ttf\n",
      "Vladimir Script:::C:\\Windows\\Fonts\\VLADIMIR.TTF\n",
      "Curlz MT:::C:\\Windows\\Fonts\\CURLZ___.TTF\n",
      "Bookman Old Style:::C:\\Windows\\Fonts\\BOOKOSBI.TTF\n",
      "Arial:::C:\\Windows\\Fonts\\arialbi.ttf\n",
      "Century Schoolbook:::C:\\Windows\\Fonts\\SCHLBKI.TTF\n",
      "Brush Script MT:::C:\\Windows\\Fonts\\BRUSHSCI.TTF\n",
      "Courier New:::C:\\Windows\\Fonts\\courbd.ttf\n",
      "Monotype Corsiva:::C:\\Windows\\Fonts\\MTCORSVA.TTF\n",
      "Myanmar Text:::C:\\Windows\\Fonts\\mmrtext.ttf\n",
      "Candara:::C:\\Windows\\Fonts\\Candarai.ttf\n",
      "HYMyeongJo-Extra:::C:\\Windows\\Fonts\\H2MJRE.TTF\n",
      "Segoe Fluent Icons:::C:\\Windows\\Fonts\\SegoeIcons.ttf\n",
      "Mistral:::C:\\Windows\\Fonts\\MISTRAL.TTF\n",
      "Niagara Solid:::C:\\Windows\\Fonts\\NIAGSOL.TTF\n",
      "Segoe UI:::C:\\Windows\\Fonts\\segoeuii.ttf\n",
      "New Gulim:::C:\\Windows\\Fonts\\NGULIM.TTF\n",
      "Impact:::C:\\Windows\\Fonts\\impact.ttf\n",
      "Century:::C:\\Windows\\Fonts\\CENTURY.TTF\n",
      "Comic Sans MS:::C:\\Windows\\Fonts\\comicbd.ttf\n",
      "Cambria:::C:\\Windows\\Fonts\\cambriai.ttf\n",
      "Californian FB:::C:\\Windows\\Fonts\\CALIFB.TTF\n",
      "Lucida Fax:::C:\\Windows\\Fonts\\LFAXD.TTF\n",
      "Tw Cen MT:::C:\\Windows\\Fonts\\TCMI____.TTF\n",
      "Constantia:::C:\\Windows\\Fonts\\constan.ttf\n",
      "Berlin Sans FB Demi:::C:\\Windows\\Fonts\\BRLNSDB.TTF\n",
      "Corbel:::C:\\Windows\\Fonts\\corbelli.ttf\n",
      "Microsoft JhengHei:::C:\\Windows\\Fonts\\msjhbd.ttc\n",
      "Symbol:::C:\\Windows\\Fonts\\symbol.ttf\n",
      "High Tower Text:::C:\\Windows\\Fonts\\HTOWERT.TTF\n",
      "Segoe Script:::C:\\Windows\\Fonts\\segoescb.ttf\n",
      "Microsoft Himalaya:::C:\\Windows\\Fonts\\himalaya.ttf\n",
      "Franklin Gothic Book:::C:\\Windows\\Fonts\\FRABKIT.TTF\n",
      "SimSun-ExtB:::C:\\Windows\\Fonts\\simsunb.ttf\n",
      "Calibri:::C:\\Windows\\Fonts\\calibri.ttf\n",
      "Arial:::C:\\Windows\\Fonts\\ARIALN.TTF\n",
      "Comic Sans MS:::C:\\Windows\\Fonts\\comic.ttf\n",
      "Tahoma:::C:\\Windows\\Fonts\\tahoma.ttf\n",
      "Bell MT:::C:\\Windows\\Fonts\\BELLI.TTF\n",
      "Microsoft Tai Le:::C:\\Windows\\Fonts\\taileb.ttf\n",
      "Juice ITC:::C:\\Windows\\Fonts\\JUICE___.TTF\n",
      "Verdana:::C:\\Windows\\Fonts\\verdanab.ttf\n",
      "Microsoft Uighur:::C:\\Windows\\Fonts\\MSUIGHUB.TTF\n",
      "Microsoft JhengHei:::C:\\Windows\\Fonts\\msjhl.ttc\n",
      "Franklin Gothic Book:::C:\\Windows\\Fonts\\FRABK.TTF\n",
      "Georgia:::C:\\Windows\\Fonts\\georgiab.ttf\n",
      "Microsoft New Tai Lue:::C:\\Windows\\Fonts\\ntailub.ttf\n",
      "Candara:::C:\\Windows\\Fonts\\Candara.ttf\n",
      "Freestyle Script:::C:\\Windows\\Fonts\\FREESCPT.TTF\n",
      "MingLiU-ExtB:::C:\\Windows\\Fonts\\mingliub.ttc\n",
      "Gill Sans MT:::C:\\Windows\\Fonts\\GILB____.TTF\n",
      "Tw Cen MT:::C:\\Windows\\Fonts\\TCBI____.TTF\n",
      "Microsoft Sans Serif:::C:\\Windows\\Fonts\\micross.ttf\n",
      "Perpetua:::C:\\Windows\\Fonts\\PERI____.TTF\n",
      "Nirmala UI:::C:\\Windows\\Fonts\\NirmalaS.ttf\n",
      "Eras Demi ITC:::C:\\Windows\\Fonts\\ERASDEMI.TTF\n",
      "Book Antiqua:::C:\\Windows\\Fonts\\ANTQUAB.TTF\n",
      "Palatino Linotype:::C:\\Windows\\Fonts\\palab.ttf\n",
      "HYGothic-Extra:::C:\\Windows\\Fonts\\H2GTRE.TTF\n",
      "HYPost-Light:::C:\\Windows\\Fonts\\H2PORL.TTF\n",
      "Maiandra GD:::C:\\Windows\\Fonts\\MAIAN.TTF\n",
      "Bookshelf Symbol 7:::C:\\Windows\\Fonts\\BSSYM7.TTF\n",
      "Wingdings:::C:\\Windows\\Fonts\\wingding.ttf\n",
      "Verdana:::C:\\Windows\\Fonts\\verdanaz.ttf\n",
      "Consolas:::C:\\Windows\\Fonts\\consola.ttf\n",
      "Bernard MT Condensed:::C:\\Windows\\Fonts\\BERNHC.TTF\n",
      "Lucida Bright:::C:\\Windows\\Fonts\\LBRITE.TTF\n",
      "Arial:::C:\\Windows\\Fonts\\ariali.ttf\n",
      "Lucida Sans Typewriter:::C:\\Windows\\Fonts\\LTYPEB.TTF\n",
      "Broadway:::C:\\Windows\\Fonts\\BROADW.TTF\n",
      "Viner Hand ITC:::C:\\Windows\\Fonts\\VINERITC.TTF\n",
      "Calisto MT:::C:\\Windows\\Fonts\\CALISTBI.TTF\n",
      "Bell MT:::C:\\Windows\\Fonts\\BELLB.TTF\n",
      "High Tower Text:::C:\\Windows\\Fonts\\HTOWERTI.TTF\n",
      "Lucida Fax:::C:\\Windows\\Fonts\\LFAX.TTF\n",
      "MV Boli:::C:\\Windows\\Fonts\\mvboli.ttf\n",
      "Leelawadee UI:::C:\\Windows\\Fonts\\LeelaUIb.ttf\n",
      "HCR Batang ExtB:::C:\\Windows\\Fonts\\HANBatangExtB.ttf\n",
      "Lucida Fax:::C:\\Windows\\Fonts\\LFAXDI.TTF\n",
      "Gill Sans MT:::C:\\Windows\\Fonts\\GILI____.TTF\n",
      "MS Outlook:::C:\\Windows\\Fonts\\OUTLOOK.TTF\n",
      "Verdana:::C:\\Windows\\Fonts\\verdana.ttf\n",
      "Palatino Linotype:::C:\\Windows\\Fonts\\palabi.ttf\n",
      "Headline R:::C:\\Windows\\Fonts\\HMKMRHD.TTF\n",
      "Wingdings 2:::C:\\Windows\\Fonts\\WINGDNG2.TTF\n",
      "SimSun:::C:\\Windows\\Fonts\\simsun.ttc\n",
      "Trebuchet MS:::C:\\Windows\\Fonts\\trebucbi.ttf\n",
      "Berlin Sans FB:::C:\\Windows\\Fonts\\BRLNSR.TTF\n",
      "Lucida Handwriting:::C:\\Windows\\Fonts\\LHANDW.TTF\n",
      "Bradley Hand ITC:::C:\\Windows\\Fonts\\BRADHITC.TTF\n",
      "Microsoft Tai Le:::C:\\Windows\\Fonts\\taile.ttf\n",
      "Lucida Bright:::C:\\Windows\\Fonts\\LBRITED.TTF\n",
      "Calibri:::C:\\Windows\\Fonts\\calibril.ttf\n",
      "HYPost-Medium:::C:\\Windows\\Fonts\\H2PORM.TTF\n",
      "Goudy Old Style:::C:\\Windows\\Fonts\\GOUDOS.TTF\n",
      "Rockwell:::C:\\Windows\\Fonts\\ROCK.TTF\n",
      "Palatino Linotype:::C:\\Windows\\Fonts\\palai.ttf\n",
      "HCR Dotum:::C:\\Windows\\Fonts\\HANDotumB.ttf\n",
      "Franklin Gothic Medium:::C:\\Windows\\Fonts\\framd.ttf\n",
      "Rockwell Extra Bold:::C:\\Windows\\Fonts\\ROCKEB.TTF\n",
      "Franklin Gothic Demi:::C:\\Windows\\Fonts\\FRADMIT.TTF\n",
      "NewJumja:::C:\\Windows\\Fonts\\JUMJA.TTF\n",
      "Courier New:::C:\\Windows\\Fonts\\courbi.ttf\n",
      "MS Reference Specialty:::C:\\Windows\\Fonts\\REFSPCL.TTF\n",
      "Microsoft Uighur:::C:\\Windows\\Fonts\\MSUIGHUR.TTF\n",
      "Constantia:::C:\\Windows\\Fonts\\constanz.ttf\n",
      "Kunstler Script:::C:\\Windows\\Fonts\\KUNSTLER.TTF\n",
      "Corbel:::C:\\Windows\\Fonts\\corbel.ttf\n",
      "Lucida Bright:::C:\\Windows\\Fonts\\LBRITEDI.TTF\n",
      "Informal Roman:::C:\\Windows\\Fonts\\INFROMAN.TTF\n",
      "Californian FB:::C:\\Windows\\Fonts\\CALIFI.TTF\n",
      "French Script MT:::C:\\Windows\\Fonts\\FRSCRIPT.TTF\n",
      "Segoe UI:::C:\\Windows\\Fonts\\seguibli.ttf\n",
      "Franklin Gothic Heavy:::C:\\Windows\\Fonts\\FRAHV.TTF\n",
      "Leelawadee:::C:\\Windows\\Fonts\\LEELAWAD.TTF\n",
      "Times New Roman:::C:\\Windows\\Fonts\\times.ttf\n",
      "Ink Free:::C:\\Windows\\Fonts\\Inkfree.ttf\n",
      "Ebrima:::C:\\Windows\\Fonts\\ebrima.ttf\n",
      "Bodoni MT:::C:\\Windows\\Fonts\\BOD_CB.TTF\n",
      "Lucida Sans:::C:\\Windows\\Fonts\\LSANSD.TTF\n",
      "Calisto MT:::C:\\Windows\\Fonts\\CALISTB.TTF\n",
      "HYGothic-Medium:::C:\\Windows\\Fonts\\H2GTRM.TTF\n",
      "Calibri:::C:\\Windows\\Fonts\\calibriz.ttf\n",
      "Segoe UI:::C:\\Windows\\Fonts\\seguisb.ttf\n",
      "Microsoft YaHei:::C:\\Windows\\Fonts\\msyhbd.ttc\n",
      "Gadugi:::C:\\Windows\\Fonts\\gadugi.ttf\n",
      "Microsoft PhagsPa:::C:\\Windows\\Fonts\\phagspa.ttf\n",
      "Dubai:::C:\\Windows\\Fonts\\DUBAI-REGULAR.TTF\n",
      "Tw Cen MT Condensed Extra Bold:::C:\\Windows\\Fonts\\TCCEB.TTF\n",
      "Segoe UI:::C:\\Windows\\Fonts\\segoeuiz.ttf\n",
      "Consolas:::C:\\Windows\\Fonts\\consolab.ttf\n",
      "Yu Gothic:::C:\\Windows\\Fonts\\YuGothR.ttc\n",
      "Corbel:::C:\\Windows\\Fonts\\corbelz.ttf\n",
      "Magneto:::C:\\Windows\\Fonts\\MAGNETOB.TTF\n",
      "Consolas:::C:\\Windows\\Fonts\\consolaz.ttf\n",
      "HCR Dotum Ext:::C:\\Windows\\Fonts\\HANDotumExt.ttf\n",
      "Segoe UI:::C:\\Windows\\Fonts\\segoeuib.ttf\n",
      "Times New Roman:::C:\\Windows\\Fonts\\timesi.ttf\n",
      "Pyunji R:::C:\\Windows\\Fonts\\HMFMPYUN.TTF\n",
      "HyhwpEQ:::C:\\Windows\\Fonts\\HYHWPEQ.TTF\n",
      "Constantia:::C:\\Windows\\Fonts\\constanb.ttf\n",
      "Segoe UI Emoji:::C:\\Windows\\Fonts\\seguiemj.ttf\n",
      "Modern No. 20:::C:\\Windows\\Fonts\\MOD20.TTF\n",
      "Verdana:::C:\\Windows\\Fonts\\verdanai.ttf\n",
      "Lucida Sans:::C:\\Windows\\Fonts\\LSANS.TTF\n",
      "Comic Sans MS:::C:\\Windows\\Fonts\\comicz.ttf\n",
      "Forte:::C:\\Windows\\Fonts\\FORTE.TTF\n",
      "Arial:::C:\\Windows\\Fonts\\ARIALNB.TTF\n",
      "Bodoni MT:::C:\\Windows\\Fonts\\BOD_BI.TTF\n",
      "Jokerman:::C:\\Windows\\Fonts\\JOKERMAN.TTF\n",
      "Dubai:::C:\\Windows\\Fonts\\DUBAI-LIGHT.TTF\n",
      "HancomEQN:::C:\\Windows\\Fonts\\HancomEQN.ttf\n",
      "Nirmala UI:::C:\\Windows\\Fonts\\Nirmala.ttf\n",
      "Script MT Bold:::C:\\Windows\\Fonts\\SCRIPTBL.TTF\n",
      "Edwardian Script ITC:::C:\\Windows\\Fonts\\ITCEDSCR.TTF\n"
     ]
    }
   ],
   "source": [
    "for f in fm.fontManager.ttflist:\n",
    "    print(f.name, f.fname, sep=':::')  # 폰트이름, 폰트파일경로"
   ]
  },
  {
   "cell_type": "markdown",
   "metadata": {},
   "source": [
    "원하는 폰트명 찾기"
   ]
  },
  {
   "cell_type": "code",
   "execution_count": 8,
   "metadata": {
    "ExecuteTime": {
     "end_time": "2022-06-14T01:41:48.571954Z",
     "start_time": "2022-06-14T01:41:48.560022Z"
    }
   },
   "outputs": [
    {
     "data": {
      "text/plain": [
       "[('Malgun Gothic', 'C:\\\\Windows\\\\Fonts\\\\malgunbd.ttf'),\n",
       " ('Malgun Gothic', 'C:\\\\Windows\\\\Fonts\\\\malgun.ttf'),\n",
       " ('Malgun Gothic', 'C:\\\\Windows\\\\Fonts\\\\malgunsl.ttf')]"
      ]
     },
     "execution_count": 8,
     "metadata": {},
     "output_type": "execute_result"
    }
   ],
   "source": [
    "[(f.name,f.fname) for f in fm.fontManager.ttflist if 'malg' in f.name.lower()]  \n",
    "#mac : AppleGothic\n",
    "# 설정시 폰트 이름을 사용"
   ]
  },
  {
   "cell_type": "markdown",
   "metadata": {},
   "source": [
    "## 폰트등 환경 설정하기 \n",
    "###  설정파일 변경\n",
    "- 한번만 하면 되므로 편리하다."
   ]
  },
  {
   "cell_type": "markdown",
   "metadata": {},
   "source": [
    "설정파일 경로찾기: `matplotlib.matplotlib_fname()`\n",
    "matplotlib 관련 전역 설정들을 찾아 바꿔준다.\n",
    "- 폰트 관련 설정\n",
    "```\n",
    "font.family:Malgun Gothic\n",
    "font.size:20\n",
    "axes.titlesize:30\n",
    "axes.labelsize:20  \n",
    "axes.unicode_minus:False\n",
    "xtick.labelsize:15\n",
    "ytick.labelsize:15 \n",
    "```"
   ]
  },
  {
   "cell_type": "code",
   "execution_count": 9,
   "metadata": {
    "ExecuteTime": {
     "end_time": "2022-06-14T01:42:15.953880Z",
     "start_time": "2022-06-14T01:42:15.942944Z"
    }
   },
   "outputs": [
    {
     "name": "stdout",
     "output_type": "stream",
     "text": [
      "C:\\Users\\USER\\anaconda3\\envs\\ml\\lib\\site-packages\\matplotlib\\mpl-data\\matplotlibrc\n"
     ]
    }
   ],
   "source": [
    "print(mpl.matplotlib_fname())"
   ]
  },
  {
   "cell_type": "markdown",
   "metadata": {},
   "source": [
    "### 함수를 이용해 설정\n",
    "- `matplotlib.rcParam['설정'] = 값` 으로 변경"
   ]
  },
  {
   "cell_type": "code",
   "execution_count": 2,
   "metadata": {
    "ExecuteTime": {
     "end_time": "2022-06-14T02:10:50.306933Z",
     "start_time": "2022-06-14T02:10:50.289975Z"
    }
   },
   "outputs": [],
   "source": [
    "import matplotlib as mpl\n",
    "from matplotlib import font_manager as fm\n",
    "\n",
    "# 한글 폰트 설정\n",
    "# font_name = fm.FontProperties(fname=\"c:/Windows/Fonts/malgun.ttf\").get_name()\n",
    "\n",
    "# 폰트변경\n",
    "# mpl.rcParams[\"font.family\"] = font_name\n",
    "# 폰트 size변경\n",
    "mpl.rcParams[\"font.size\"] = 20\n",
    "# x, y 축의 label 크기 변경\n",
    "mpl.rcParams['axes.labelsize'] = 15\n",
    "# x, y 축의 tick(눈금) label 크기 변경\n",
    "mpl.rcParams['xtick.labelsize'] = 12\n",
    "mpl.rcParams['ytick.labelsize'] = 12\n",
    "\n",
    "# tick의 음수기호 '-' 가 깨지는 것 처리\n",
    "# mpl.rcParams['axes.unicode_minus'] = False"
   ]
  },
  {
   "cell_type": "code",
   "execution_count": 10,
   "metadata": {
    "ExecuteTime": {
     "end_time": "2022-06-14T02:11:19.921348Z",
     "start_time": "2022-06-14T02:11:19.762317Z"
    }
   },
   "outputs": [
    {
     "data": {
      "image/png": "[encoded data removed]",
      "text/plain": [
       "<Figure size 432x288 with 1 Axes>"
      ]
     },
     "metadata": {
      "needs_background": "light"
     },
     "output_type": "display_data"
    }
   ],
   "source": [
    "import matplotlib.pyplot as plt\n",
    "plt.plot(range(-5,6))\n",
    "plt.xlabel(\"X값\")\n",
    "plt.ylabel(\"Y값\")\n",
    "plt.title('matplotlib 예제')\n",
    "plt.show()"
   ]
  },
  {
   "cell_type": "code",
   "execution_count": null,
   "metadata": {},
   "outputs": [],
   "source": []
  }
 ],
 "metadata": {
  "kernelspec": {
   "display_name": "Python 3 (ipykernel)",
   "language": "python",
   "name": "python3"
  },
  "language_info": {
   "codemirror_mode": {
    "name": "ipython",
    "version": 3
   },
   "file_extension": ".py",
   "mimetype": "text/x-python",
   "name": "python",
   "nbconvert_exporter": "python",
   "pygments_lexer": "ipython3",
   "version": "3.9.12"
  },
  "toc": {
   "base_numbering": 1,
   "nav_menu": {},
   "number_sections": true,
   "sideBar": true,
   "skip_h1_title": false,
   "title_cell": "Table of Contents",
   "title_sidebar": "Contents",
   "toc_cell": false,
   "toc_position": {},
   "toc_section_display": true,
   "toc_window_display": false
  },
  "varInspector": {
   "cols": {
    "lenName": 16,
    "lenType": 16,
    "lenVar": 40
   },
   "kernels_config": {
    "python": {
     "delete_cmd_postfix": "",
     "delete_cmd_prefix": "del ",
     "library": "var_list.py",
     "varRefreshCmd": "print(var_dic_list())"
    },
    "r": {
     "delete_cmd_postfix": ") ",
     "delete_cmd_prefix": "rm(",
     "library": "var_list.r",
     "varRefreshCmd": "cat(var_dic_list()) "
    }
   },
   "types_to_exclude": [
    "module",
    "function",
    "builtin_function_or_method",
    "instance",
    "_Feature"
   ],
   "window_display": false
  }
 },
 "nbformat": 4,
 "nbformat_minor": 2
}
